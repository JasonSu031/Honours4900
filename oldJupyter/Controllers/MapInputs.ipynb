{
 "cells": [
  {
   "cell_type": "code",
   "execution_count": 49,
   "id": "1833a2aa",
   "metadata": {},
   "outputs": [],
   "source": [
    "import pandas as pd\n",
    "import csv\n",
    "import json\n",
    "from datetime import datetime\n",
    "import datetime"
   ]
  },
  {
   "cell_type": "code",
   "execution_count": 50,
   "id": "5b03913d",
   "metadata": {},
   "outputs": [],
   "source": [
    "fileName = \"Cuphead.json\""
   ]
  },
  {
   "cell_type": "code",
   "execution_count": 51,
   "id": "d7c558e6",
   "metadata": {},
   "outputs": [],
   "source": [
    "def defineMap(fileName):                                        #open json file and return it\n",
    "    with open('../Data/KeyMapping/'+fileName, 'r') as f:\n",
    "        keyMapping = json.load(f)\n",
    "        return keyMapping"
   ]
  },
  {
   "cell_type": "code",
   "execution_count": 52,
   "id": "a2911dee",
   "metadata": {},
   "outputs": [],
   "source": [
    "try:                                                            #try to open json file\n",
    "    keyMapping = defineMap(fileName)\n",
    "except:\n",
    "    print(\"json file does not exist\")"
   ]
  },
  {
   "cell_type": "code",
   "execution_count": 53,
   "id": "b39e581c",
   "metadata": {},
   "outputs": [],
   "source": [
    "def readFile(dataFile):                                        #read file and return action column data \"jump\", \"dash\"\n",
    "    df = pd.read_csv(\"../Data/UserInput/\"+dataFile, sep = '\\t', header=None)\n",
    "    actionCol = df.iloc[:,-1]\n",
    "    return actionCol"
   ]
  },
  {
   "cell_type": "code",
   "execution_count": 54,
   "id": "b974bd0d",
   "metadata": {},
   "outputs": [],
   "source": [
    "def addInterval(dataframe):                                   #return time passed since start of recording\n",
    "    elapsed = dataframe\n",
    "    elapsed = elapsed.rename(\"elapsed\")\n",
    "    start = elapsed.iloc[0]                                   #timestamp of beginning of recording\n",
    "    elapsed = elapsed.apply(lambda x:str(datetime.timedelta(seconds=(x-start).seconds))+\":\"+str(int((x-start).microseconds/1000)))   #find difference of current time and start time for each time\n",
    "    return elapsed"
   ]
  },
  {
   "cell_type": "code",
   "execution_count": 55,
   "id": "53b3961b",
   "metadata": {},
   "outputs": [],
   "source": [
    "def clean_inputs(keyCol):                                     #remove the useless letters from keys ie. remove Button from Button.J\n",
    "    keyCol = keyCol.str.replace(\"Button\\.\", '', regex=True)\n",
    "    keyCol = keyCol.str.replace(\"Key\\.\", '', regex=True)\n",
    "    return keyCol"
   ]
  },
  {
   "cell_type": "code",
   "execution_count": 56,
   "id": "890df5dd",
   "metadata": {},
   "outputs": [],
   "source": [
    "def annotateData(dataFile):                                              #open the file to be annotated\n",
    "    df = pd.read_csv(\"../Data/UserInput/\"+dataFile, sep = '\\t', header=None, names = [\"TS\", \"key\", \"action\"])                             #create a dataframe of file that needs annotation\n",
    "    df.TS = df.TS.apply(lambda x:datetime.datetime.strptime(x, '%Y-%m-%d %H:%M:%S.%f'))  #change Timestamp string to date format\n",
    "    keyCol = df.iloc[:,-2]                                                          #this only takes the column of user inputs (ex. w, a, s, d)\n",
    "    cleanedKey = clean_inputs(keyCol)                                               #clean the inputs by removing Button. and Key. from key inputs\n",
    "    keyCol = cleanedKey.copy()\n",
    "    keyCol = keyCol.map(keyMapping).to_frame().fillna(\"other\")                      #match the user inputs with the key_mapping json data, then convert it to a dataframe and replace all NaN values with other\n",
    "    df2 = pd.merge(df, keyCol, left_index=True, right_index=True)                   #merge the original file that needs annotations with the annotations\n",
    "    df2.insert(1, \"col1\",cleanedKey)                                                #insert the clenaed inputs\n",
    "    df2 = df2.drop(\"key_x\", axis = 1)                                               #drop old key column\n",
    "    df2 = df2.drop(df2[df2.action ==\"other\"].index)                                 #drop all rows with other keys\n",
    "    display(df2)\n",
    "    df2.to_csv(\"../Data/AnnotatedInput/annotated\"+dataFile,sep = '\\t', header=None, index = False)"
   ]
  },
  {
   "cell_type": "code",
   "execution_count": 57,
   "id": "059662e4",
   "metadata": {},
   "outputs": [],
   "source": [
    "def dataToAnnotate(dataFile):\n",
    "    df = pd.read_csv(\"../Data/UserInput/\"+dataFile, sep = '\\t', header = None, names = [\"TS\", \"Key\", \"Action\"])   #\n",
    "    df = df.iloc[:,0]                                                                                             #get timestamp row\n",
    "    df = df.apply(lambda x:datetime.datetime.strptime(x, '%Y-%m-%d %H:%M:%S.%f'))                                 #change timestamp string to datetime\n",
    "    elapsed = addInterval(df)                                                                                     #get the time elapsed data column\n",
    "    toAnnotate = pd.concat([df, elapsed], axis = 1)                                                               #add elapsed data to original dataframe\n",
    "    display(toAnnotate)\n",
    "    toAnnotate.to_csv(\"../Data/AnnotatedInput/addAnnotation\"+dataFile, sep = '\\t', header = None, index = False)  #save file with actions performed data"
   ]
  },
  {
   "cell_type": "code",
   "execution_count": 59,
   "id": "6075e532",
   "metadata": {},
   "outputs": [
    {
     "data": {
      "text/html": [
       "<div>\n",
       "<style scoped>\n",
       "    .dataframe tbody tr th:only-of-type {\n",
       "        vertical-align: middle;\n",
       "    }\n",
       "\n",
       "    .dataframe tbody tr th {\n",
       "        vertical-align: top;\n",
       "    }\n",
       "\n",
       "    .dataframe thead th {\n",
       "        text-align: right;\n",
       "    }\n",
       "</style>\n",
       "<table border=\"1\" class=\"dataframe\">\n",
       "  <thead>\n",
       "    <tr style=\"text-align: right;\">\n",
       "      <th></th>\n",
       "      <th>TS</th>\n",
       "      <th>col1</th>\n",
       "      <th>action</th>\n",
       "      <th>key_y</th>\n",
       "    </tr>\n",
       "  </thead>\n",
       "  <tbody>\n",
       "    <tr>\n",
       "      <th>0</th>\n",
       "      <td>2023-04-13 12:27:08.979268</td>\n",
       "      <td>z</td>\n",
       "      <td>pressed</td>\n",
       "      <td>jump</td>\n",
       "    </tr>\n",
       "    <tr>\n",
       "      <th>1</th>\n",
       "      <td>2023-04-13 12:27:09.075052</td>\n",
       "      <td>z</td>\n",
       "      <td>released</td>\n",
       "      <td>jump</td>\n",
       "    </tr>\n",
       "    <tr>\n",
       "      <th>2</th>\n",
       "      <td>2023-04-13 12:27:11.361745</td>\n",
       "      <td>z</td>\n",
       "      <td>pressed</td>\n",
       "      <td>jump</td>\n",
       "    </tr>\n",
       "    <tr>\n",
       "      <th>3</th>\n",
       "      <td>2023-04-13 12:27:11.526767</td>\n",
       "      <td>z</td>\n",
       "      <td>released</td>\n",
       "      <td>jump</td>\n",
       "    </tr>\n",
       "    <tr>\n",
       "      <th>4</th>\n",
       "      <td>2023-04-13 12:27:12.411511</td>\n",
       "      <td>z</td>\n",
       "      <td>pressed</td>\n",
       "      <td>jump</td>\n",
       "    </tr>\n",
       "    <tr>\n",
       "      <th>...</th>\n",
       "      <td>...</td>\n",
       "      <td>...</td>\n",
       "      <td>...</td>\n",
       "      <td>...</td>\n",
       "    </tr>\n",
       "    <tr>\n",
       "      <th>1134</th>\n",
       "      <td>2023-04-13 12:31:09.943641</td>\n",
       "      <td>alt_l</td>\n",
       "      <td>pressed</td>\n",
       "      <td>other</td>\n",
       "    </tr>\n",
       "    <tr>\n",
       "      <th>1135</th>\n",
       "      <td>2023-04-13 12:31:10.021597</td>\n",
       "      <td>tab</td>\n",
       "      <td>pressed</td>\n",
       "      <td>other</td>\n",
       "    </tr>\n",
       "    <tr>\n",
       "      <th>1136</th>\n",
       "      <td>2023-04-13 12:31:10.120192</td>\n",
       "      <td>tab</td>\n",
       "      <td>released</td>\n",
       "      <td>other</td>\n",
       "    </tr>\n",
       "    <tr>\n",
       "      <th>1137</th>\n",
       "      <td>2023-04-13 12:31:11.219767</td>\n",
       "      <td>alt_l</td>\n",
       "      <td>released</td>\n",
       "      <td>other</td>\n",
       "    </tr>\n",
       "    <tr>\n",
       "      <th>1138</th>\n",
       "      <td>2023-04-13 12:31:13.446816</td>\n",
       "      <td>delete</td>\n",
       "      <td>pressed</td>\n",
       "      <td>end</td>\n",
       "    </tr>\n",
       "  </tbody>\n",
       "</table>\n",
       "<p>1139 rows × 4 columns</p>\n",
       "</div>"
      ],
      "text/plain": [
       "                             TS    col1    action  key_y\n",
       "0    2023-04-13 12:27:08.979268       z   pressed   jump\n",
       "1    2023-04-13 12:27:09.075052       z  released   jump\n",
       "2    2023-04-13 12:27:11.361745       z   pressed   jump\n",
       "3    2023-04-13 12:27:11.526767       z  released   jump\n",
       "4    2023-04-13 12:27:12.411511       z   pressed   jump\n",
       "...                         ...     ...       ...    ...\n",
       "1134 2023-04-13 12:31:09.943641   alt_l   pressed  other\n",
       "1135 2023-04-13 12:31:10.021597     tab   pressed  other\n",
       "1136 2023-04-13 12:31:10.120192     tab  released  other\n",
       "1137 2023-04-13 12:31:11.219767   alt_l  released  other\n",
       "1138 2023-04-13 12:31:13.446816  delete   pressed    end\n",
       "\n",
       "[1139 rows x 4 columns]"
      ]
     },
     "metadata": {},
     "output_type": "display_data"
    }
   ],
   "source": [
    "annotateData(\"cupheadkb.tsv\")"
   ]
  },
  {
   "cell_type": "code",
   "execution_count": 110,
   "id": "d8dc3ac8",
   "metadata": {},
   "outputs": [],
   "source": [
    "# try:\n",
    "#     dataToAnnotate(\"cupheadkb.tsv\")\n",
    "# except:\n",
    "#     print(\"Failed to annotate keyboard data\")"
   ]
  },
  {
   "cell_type": "code",
   "execution_count": null,
   "id": "e1e0ed6d",
   "metadata": {},
   "outputs": [],
   "source": []
  }
 ],
 "metadata": {
  "kernelspec": {
   "display_name": "Python 3 (ipykernel)",
   "language": "python",
   "name": "python3"
  },
  "language_info": {
   "codemirror_mode": {
    "name": "ipython",
    "version": 3
   },
   "file_extension": ".py",
   "mimetype": "text/x-python",
   "name": "python",
   "nbconvert_exporter": "python",
   "pygments_lexer": "ipython3",
   "version": "3.10.10"
  }
 },
 "nbformat": 4,
 "nbformat_minor": 5
}
