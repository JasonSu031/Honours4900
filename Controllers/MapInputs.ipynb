{
 "cells": [
  {
   "cell_type": "code",
   "execution_count": 20,
   "id": "1833a2aa",
   "metadata": {},
   "outputs": [],
   "source": [
    "import pandas as pd\n",
    "import csv\n",
    "import json"
   ]
  },
  {
   "cell_type": "code",
   "execution_count": 21,
   "id": "5b03913d",
   "metadata": {},
   "outputs": [],
   "source": [
    "fileName = \"Valorant.json\""
   ]
  },
  {
   "cell_type": "code",
   "execution_count": 22,
   "id": "d7c558e6",
   "metadata": {},
   "outputs": [],
   "source": [
    "def defineMap(fileName):\n",
    "    with open('../Data/KeyMapping/'+fileName, 'r') as f:\n",
    "        keyMapping = json.load(f)\n",
    "        return keyMapping"
   ]
  },
  {
   "cell_type": "code",
   "execution_count": 23,
   "id": "a2911dee",
   "metadata": {},
   "outputs": [],
   "source": [
    "try:\n",
    "    keyMapping = defineMap(fileName)\n",
    "except:\n",
    "    print(\"json file does not exist\")"
   ]
  },
  {
   "cell_type": "code",
   "execution_count": 24,
   "id": "b39e581c",
   "metadata": {},
   "outputs": [],
   "source": [
    "def readFile(dataFile):\n",
    "    df = pd.read_csv(\"../Data/UserInput/\"+dataFile, sep = '\\t', header=None)\n",
    "    actionCol = df.iloc[:,-1]"
   ]
  },
  {
   "cell_type": "code",
   "execution_count": 25,
   "id": "53b3961b",
   "metadata": {},
   "outputs": [],
   "source": [
    "def clean_inputs(keyCol):\n",
    "    keyCol = keyCol.str.replace(\"Button\\.\", '', regex=True)\n",
    "    keyCol = keyCol.str.replace(\"Key\\.\", '', regex=True)\n",
    "    return keyCol"
   ]
  },
  {
   "cell_type": "code",
   "execution_count": 26,
   "id": "890df5dd",
   "metadata": {},
   "outputs": [],
   "source": [
    "def annotateData(dataFile):                                              #open the file to be annotated\n",
    "    df = pd.read_csv(\"../Data/UserInput/\"+dataFile, sep = '\\t', header=None)                             #create a dataframe of file that needs annotation\n",
    "    keyCol = df.iloc[:,-2]                                                          #this only takes the column of user inputs (ex. w, a, s, d)\n",
    "    keyCol = clean_inputs(keyCol)\n",
    "    keyCol = keyCol.map(keyMapping).to_frame().fillna(\"other\")                     #match the user inputs with the key_mapping json data, then convert it to a dataframe and replace all NaN values with other\n",
    "    df2 = pd.merge(df, keyCol, left_index=True, right_index=True)                   #merge the original file that needs annotations with the annotations\n",
    "    df2.to_csv(\"../Data/AnnotatedInput/annotated\"+dataFile,sep = '\\t', header=None, index = False)"
   ]
  },
  {
   "cell_type": "code",
   "execution_count": 27,
   "id": "6075e532",
   "metadata": {},
   "outputs": [],
   "source": [
    "try:\n",
    "    annotateData(\"kb.tsv\")\n",
    "except:\n",
    "    print(\"Failed to annotate keyboard data\")\n",
    "    \n",
    "try:\n",
    "    annotateData(\"mouse.tsv\")\n",
    "except:\n",
    "    print(\"Failed to annotate mouse data\")\n",
    "    \n",
    "try:\n",
    "    annotateData(\"xbox.tsv\")\n",
    "except:\n",
    "    print(\"Failed to annotate xbox data\")"
   ]
  }
 ],
 "metadata": {
  "kernelspec": {
   "display_name": "Python 3 (ipykernel)",
   "language": "python",
   "name": "python3"
  },
  "language_info": {
   "codemirror_mode": {
    "name": "ipython",
    "version": 3
   },
   "file_extension": ".py",
   "mimetype": "text/x-python",
   "name": "python",
   "nbconvert_exporter": "python",
   "pygments_lexer": "ipython3",
   "version": "3.10.9"
  }
 },
 "nbformat": 4,
 "nbformat_minor": 5
}
