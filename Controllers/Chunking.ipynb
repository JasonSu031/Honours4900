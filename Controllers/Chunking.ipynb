{
 "cells": [
  {
   "cell_type": "code",
   "execution_count": 52,
   "id": "7536529b",
   "metadata": {},
   "outputs": [],
   "source": [
    "import pandas as pd\n",
    "import numpy as np"
   ]
  },
  {
   "cell_type": "code",
   "execution_count": 53,
   "id": "21abf7c2",
   "metadata": {},
   "outputs": [],
   "source": [
    "seqLen = 4"
   ]
  },
  {
   "cell_type": "code",
   "execution_count": 54,
   "id": "764daa2c",
   "metadata": {},
   "outputs": [],
   "source": [
    "dataFile = \"statescupheadkb.tsv\""
   ]
  },
  {
   "cell_type": "code",
   "execution_count": 55,
   "id": "3f5b1d3d",
   "metadata": {},
   "outputs": [],
   "source": [
    "def fillDf(dataFile):\n",
    "    df = pd.read_csv(\"../Data/ActionState/\"+dataFile, sep='\\t', header = None, names = ['TS','elapsed', 'crouch', 'dash', 'end', 'jump', 'left', 'lock', 'options', 'right', 'shoot', 'super', 'up', 'annotate'])\n",
    "    return df.fillna(method=\"ffill\")                                                              #fill all empty vlues in dataframe with previous value"
   ]
  },
  {
   "cell_type": "code",
   "execution_count": 56,
   "id": "048abb50",
   "metadata": {},
   "outputs": [],
   "source": [
    "def dataFrameToArray(dataFile, seqLen):\n",
    "    df = fillDf(dataFile)                                     #drop unnecessary data columns from dataframe\n",
    "    df.drop('TS', axis=1, inplace=True)\n",
    "    df.drop('elapsed', axis = 1, inplace = True)\n",
    "    df.drop('end', axis = 1, inplace = True)\n",
    "    annotate = df.annotate[:-seqLen+1]                        #grab the current game state from annotations column as series\n",
    "    df.drop('annotate', axis = 1, inplace=True)\n",
    "    arr = df.to_numpy()\n",
    "    return arr, annotate                                      #return dataframe and annotations"
   ]
  },
  {
   "cell_type": "code",
   "execution_count": 57,
   "id": "1ebf9eac",
   "metadata": {},
   "outputs": [],
   "source": [
    "def splitSeq(dataFile, seqLen, chunk):\n",
    "    inputArr, annotate= dataFrameToArray(dataFile, seqLen)    #get the binary values for each of the actions and get the annotated data\n",
    "    window = []\n",
    "    if not chunk:                                             #if told not to chunkize, set the length of each window to 1              \n",
    "        seqLen = 1                                            \n",
    "    for i in range(0,len(inputArr)-seqLen+1):                 #take the values in intervals of size seqLen\n",
    "        z = inputArr[i:i+seqLen].tolist()                     #convert these intervals to a list\n",
    "        window.append(z)\n",
    "    window = np.array(window)                                 #convert window to numpyarray\n",
    "    print(type(window))\n",
    "    return window, annotate"
   ]
  },
  {
   "cell_type": "code",
   "execution_count": 58,
   "id": "bacda8d8",
   "metadata": {},
   "outputs": [],
   "source": [
    "x,y = splitSeq(dataFile,seqLen, True)                         \n",
    "display(x,y)"
   ]
  },
  {
   "cell_type": "code",
   "execution_count": 59,
   "id": "a5b2cc08",
   "metadata": {},
   "outputs": [],
   "source": [
    "np.savez(\"../Data/Chunkized/\"+dataFile[6:-4], x=x,y=y)      #save as npz file"
   ]
  },
  {
   "cell_type": "code",
   "execution_count": null,
   "id": "29b8d194",
   "metadata": {},
   "outputs": [],
   "source": []
  }
 ],
 "metadata": {
  "kernelspec": {
   "display_name": "Python 3 (ipykernel)",
   "language": "python",
   "name": "python3"
  },
  "language_info": {
   "codemirror_mode": {
    "name": "ipython",
    "version": 3
   },
   "file_extension": ".py",
   "mimetype": "text/x-python",
   "name": "python",
   "nbconvert_exporter": "python",
   "pygments_lexer": "ipython3",
   "version": "3.10.10"
  }
 },
 "nbformat": 4,
 "nbformat_minor": 5
}
