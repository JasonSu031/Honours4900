{
 "cells": [
  {
   "cell_type": "code",
   "execution_count": 157,
   "id": "3958d2d6",
   "metadata": {},
   "outputs": [],
   "source": [
    "import pandas as pd\n",
    "import numpy as np\n",
    "from datetime import datetime\n",
    "import datetime"
   ]
  },
  {
   "cell_type": "code",
   "execution_count": 158,
   "id": "4c77d574",
   "metadata": {},
   "outputs": [],
   "source": [
    "dataFile = \"annotatedcupheadkb.tsv\""
   ]
  },
  {
   "cell_type": "code",
   "execution_count": 159,
   "id": "855807f3",
   "metadata": {},
   "outputs": [],
   "source": [
    "def addInterval(dataframe):\n",
    "    elapsed = dataframe.TS\n",
    "    start = elapsed.iloc[0]\n",
    "    elapsed = elapsed.apply(lambda x:str(datetime.timedelta(seconds=(x-start).seconds))+\":\"+str(int((x-start).microseconds/1000)))\n",
    "    return elapsed"
   ]
  },
  {
   "cell_type": "code",
   "execution_count": 160,
   "id": "b4c4d445",
   "metadata": {},
   "outputs": [],
   "source": [
    "def binaryVectorize(dataFile, resample):\n",
    "#     if(\"mouse\" in dataFile):\n",
    "#         df = pd.read_csv(\"../Data/AnnotatedInput/\"+dataFile, sep='\\t', header = None, names = [\"TS\",\"x\",\"y\", \"Key\",\"Event\", \"Action\"])\n",
    "#     else:\n",
    "    df = pd.read_csv(\"../Data/AnnotatedInput/\"+dataFile, sep='\\t', header = None, names = [\"TS\", \"Key\",\"Event\", \"Action\"])\n",
    "    df.Event = df.Event.map(lambda x:x.lower())\n",
    "    df = df.assign(Event= df.Event.map({\"pressed\":1, \"released\":0}))   \n",
    "    binaryVector = df.pivot(columns=[\"Action\"], values = [\"Event\"]).fillna(0).astype(int)\n",
    "    binaryVector.index = pd.to_datetime(df.TS)\n",
    "    binaryVector = binaryVector.resample(resample).max().fillna(method=\"ffill\").astype(int)                    #don't understand\n",
    "    binaryVector.columns = [x for _, x in binaryVector.columns] # removing \"Event\" from the column names\n",
    "    binaryVector = binaryVector.reset_index()\n",
    "    binaryVector.insert(1, \"elapsed\",addInterval(binaryVector))\n",
    "    print(binaryVector)\n",
    "    binaryVector.to_csv(\"../Data/ActionState/states\"+dataFile[9:],sep = '\\t', header=None, index = False)\n",
    "    binaryVector.to_csv(\"../Data/Annotations/states\"+dataFile[9:],sep = '\\t', header=None, index = False)\n",
    "    return binaryVector"
   ]
  },
  {
   "cell_type": "code",
   "execution_count": 161,
   "id": "838b23fa",
   "metadata": {},
   "outputs": [
    {
     "name": "stdout",
     "output_type": "stream",
     "text": [
      "                         TS      elapsed  crouch  dash  end  jump  left  lock  \\\n",
      "0   2023-04-13 12:27:08.500    0:00:00:0       0     0    0     1     0     0   \n",
      "1   2023-04-13 12:27:09.000  0:00:00:500       0     0    0     0     0     0   \n",
      "2   2023-04-13 12:27:09.500    0:00:01:0       0     0    0     0     0     0   \n",
      "3   2023-04-13 12:27:10.000  0:00:01:500       0     0    0     0     0     0   \n",
      "4   2023-04-13 12:27:10.500    0:00:02:0       0     0    0     0     0     0   \n",
      "..                      ...          ...     ...   ...  ...   ...   ...   ...   \n",
      "485 2023-04-13 12:31:11.000  0:04:02:500       0     0    0     0     0     0   \n",
      "486 2023-04-13 12:31:11.500    0:04:03:0       0     0    0     0     0     0   \n",
      "487 2023-04-13 12:31:12.000  0:04:03:500       0     0    0     0     0     0   \n",
      "488 2023-04-13 12:31:12.500    0:04:04:0       0     0    0     0     0     0   \n",
      "489 2023-04-13 12:31:13.000  0:04:04:500       0     0    1     0     0     0   \n",
      "\n",
      "     options  right  shoot  super  up  \n",
      "0          0      0      0      0   0  \n",
      "1          0      0      0      0   0  \n",
      "2          0      0      0      0   0  \n",
      "3          0      0      0      0   0  \n",
      "4          0      0      0      0   0  \n",
      "..       ...    ...    ...    ...  ..  \n",
      "485        0      0      0      0   0  \n",
      "486        0      0      0      0   0  \n",
      "487        0      0      0      0   0  \n",
      "488        0      0      0      0   0  \n",
      "489        0      0      0      0   0  \n",
      "\n",
      "[490 rows x 13 columns]\n"
     ]
    }
   ],
   "source": [
    "output = binaryVectorize(dataFile, \"500ms\")"
   ]
  },
  {
   "cell_type": "code",
   "execution_count": null,
   "id": "e4ffdb0e",
   "metadata": {},
   "outputs": [],
   "source": []
  }
 ],
 "metadata": {
  "kernelspec": {
   "display_name": "Python 3 (ipykernel)",
   "language": "python",
   "name": "python3"
  },
  "language_info": {
   "codemirror_mode": {
    "name": "ipython",
    "version": 3
   },
   "file_extension": ".py",
   "mimetype": "text/x-python",
   "name": "python",
   "nbconvert_exporter": "python",
   "pygments_lexer": "ipython3",
   "version": "3.10.10"
  }
 },
 "nbformat": 4,
 "nbformat_minor": 5
}
