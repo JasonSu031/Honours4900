{
 "cells": [
  {
   "cell_type": "code",
   "execution_count": 78,
   "id": "ef757b87",
   "metadata": {},
   "outputs": [],
   "source": [
    "import matplotlib.pyplot as plt\n",
    "import numpy as np\n",
    "from keras.callbacks import EarlyStopping\n",
    "from keras.layers import LSTM,GRU, Dense, RepeatVector, TimeDistributed, UpSampling1D\n",
    "from keras.models import Model, Sequential\n",
    "from keras.utils import plot_model\n",
    "import tensorflow as tf"
   ]
  },
  {
   "cell_type": "code",
   "execution_count": 79,
   "id": "862e2970",
   "metadata": {
    "scrolled": false
   },
   "outputs": [
    {
     "name": "stdout",
     "output_type": "stream",
     "text": [
      "(487, 4, 10)\n"
     ]
    }
   ],
   "source": [
    "a = np.load(\"../Data/Chunkized/cupheadkb.npz\", allow_pickle=True)[\"x\"]                 #take the keyboard inputs displayed as 0 and 1\n",
    "print(a.shape)"
   ]
  },
  {
   "cell_type": "code",
   "execution_count": 80,
   "id": "3007d586",
   "metadata": {
    "scrolled": false
   },
   "outputs": [
    {
     "name": "stdout",
     "output_type": "stream",
     "text": [
      "Model: \"sequential_9\"\n",
      "_________________________________________________________________\n",
      " Layer (type)                Output Shape              Param #   \n",
      "=================================================================\n",
      " gru_16 (GRU)                (None, 12)                864       \n",
      "                                                                 \n",
      " repeat_vector_9 (RepeatVect  (None, 4, 12)            0         \n",
      " or)                                                             \n",
      "                                                                 \n",
      " gru_17 (GRU)                (None, 4, 10)             720       \n",
      "                                                                 \n",
      "=================================================================\n",
      "Total params: 1,584\n",
      "Trainable params: 1,584\n",
      "Non-trainable params: 0\n",
      "_________________________________________________________________\n"
     ]
    }
   ],
   "source": [
    "from tensorflow.keras.models import Sequential\n",
    "from tensorflow.keras.layers import Dense\n",
    "\n",
    "# Define model\n",
    "seq = a.shape[1]                                   # Sequence length\n",
    "features = a.shape[2]                              #number of features\n",
    "\n",
    "model = Sequential()\n",
    "model.add(GRU(seq*3, input_shape=(seq , features)))   #using GRU, convert to vector of size 12 (encoding)\n",
    "model.add(RepeatVector(seq))                          #(decode by reshaping vector to size 4,12)\n",
    "model.add(GRU(features,return_sequences=True))        #change shape to 4,10 to match the original\n",
    "model.compile(optimizer='adam', loss='mse')           #compile model\n",
    "# Print model summary\n",
    "model.summary()"
   ]
  },
  {
   "cell_type": "code",
   "execution_count": 81,
   "id": "6c6e7a58",
   "metadata": {},
   "outputs": [
    {
     "name": "stdout",
     "output_type": "stream",
     "text": [
      "Epoch 1/30\n",
      "16/16 [==============================] - 5s 5ms/step - loss: 0.0933\n",
      "Epoch 2/30\n",
      "16/16 [==============================] - 0s 5ms/step - loss: 0.0814\n",
      "Epoch 3/30\n",
      "16/16 [==============================] - 0s 6ms/step - loss: 0.0731\n",
      "Epoch 4/30\n",
      "16/16 [==============================] - 0s 5ms/step - loss: 0.0674\n",
      "Epoch 5/30\n",
      "16/16 [==============================] - 0s 5ms/step - loss: 0.0635\n",
      "Epoch 6/30\n",
      "16/16 [==============================] - 0s 5ms/step - loss: 0.0605\n",
      "Epoch 7/30\n",
      "16/16 [==============================] - 0s 5ms/step - loss: 0.0584\n",
      "Epoch 8/30\n",
      "16/16 [==============================] - 0s 6ms/step - loss: 0.0567\n",
      "Epoch 9/30\n",
      "16/16 [==============================] - 0s 6ms/step - loss: 0.0553\n",
      "Epoch 10/30\n",
      "16/16 [==============================] - 0s 5ms/step - loss: 0.0542\n",
      "Epoch 11/30\n",
      "16/16 [==============================] - 0s 5ms/step - loss: 0.0532\n",
      "Epoch 12/30\n",
      "16/16 [==============================] - 0s 6ms/step - loss: 0.0523\n",
      "Epoch 13/30\n",
      "16/16 [==============================] - 0s 6ms/step - loss: 0.0515\n",
      "Epoch 14/30\n",
      "16/16 [==============================] - 0s 6ms/step - loss: 0.0508\n",
      "Epoch 15/30\n",
      "16/16 [==============================] - 0s 6ms/step - loss: 0.0502\n",
      "Epoch 16/30\n",
      "16/16 [==============================] - 0s 6ms/step - loss: 0.0496\n",
      "Epoch 17/30\n",
      "16/16 [==============================] - 0s 6ms/step - loss: 0.0490\n",
      "Epoch 18/30\n",
      "16/16 [==============================] - 0s 6ms/step - loss: 0.0485\n",
      "Epoch 19/30\n",
      "16/16 [==============================] - 0s 6ms/step - loss: 0.0480\n",
      "Epoch 20/30\n",
      "16/16 [==============================] - 0s 6ms/step - loss: 0.0476\n",
      "Epoch 21/30\n",
      "16/16 [==============================] - 0s 6ms/step - loss: 0.0472\n",
      "Epoch 22/30\n",
      "16/16 [==============================] - 0s 6ms/step - loss: 0.0468\n",
      "Epoch 23/30\n",
      "16/16 [==============================] - 0s 6ms/step - loss: 0.0465\n",
      "Epoch 24/30\n",
      "16/16 [==============================] - 0s 6ms/step - loss: 0.0461\n",
      "Epoch 25/30\n",
      "16/16 [==============================] - 0s 5ms/step - loss: 0.0458\n",
      "Epoch 26/30\n",
      "16/16 [==============================] - 0s 6ms/step - loss: 0.0455\n",
      "Epoch 27/30\n",
      "16/16 [==============================] - 0s 6ms/step - loss: 0.0452\n",
      "Epoch 28/30\n",
      "16/16 [==============================] - 0s 6ms/step - loss: 0.0449\n",
      "Epoch 29/30\n",
      "16/16 [==============================] - 0s 6ms/step - loss: 0.0446\n",
      "Epoch 30/30\n",
      "16/16 [==============================] - 0s 6ms/step - loss: 0.0444\n"
     ]
    }
   ],
   "source": [
    "es = EarlyStopping(patience=10, monitor=\"loss\")           #using early stop run the autoencoder epoch number of times\n",
    "h = model.fit(a, a, epochs=150, callbacks=[es])"
   ]
  },
  {
   "cell_type": "code",
   "execution_count": 82,
   "id": "ea2ae24c",
   "metadata": {
    "scrolled": true
   },
   "outputs": [],
   "source": [
    "def plot_loss(history):                                   #function to plot loss data\n",
    "    plt.plot(history.history['loss'], label='loss')\n",
    "    plt.xlabel('Iteration')\n",
    "    plt.ylabel('Loss')\n",
    "    plt.legend()"
   ]
  },
  {
   "cell_type": "code",
   "execution_count": 83,
   "id": "786cf94a",
   "metadata": {
    "scrolled": false
   },
   "outputs": [
    {
     "data": {
      "image/png": "[encoded data removed]",
      "text/plain": [
       "<Figure size 640x480 with 1 Axes>"
      ]
     },
     "metadata": {},
     "output_type": "display_data"
    }
   ],
   "source": [
    "plot_loss(h)"
   ]
  },
  {
   "cell_type": "code",
   "execution_count": 84,
   "id": "f1d72057",
   "metadata": {},
   "outputs": [],
   "source": [
    "encoder = Model(inputs=model.inputs, outputs=model.layers[0].output)           #create encoder"
   ]
  },
  {
   "cell_type": "code",
   "execution_count": 85,
   "id": "a6648688",
   "metadata": {},
   "outputs": [
    {
     "name": "stdout",
     "output_type": "stream",
     "text": [
      "16/16 [==============================] - 0s 1ms/step\n"
     ]
    }
   ],
   "source": [
    "encoder1 = encoder.predict(np.load(\"../Data/Chunkized/cupheadkb.npz\", allow_pickle=True)[\"x\"])    #predict data using encoder"
   ]
  },
  {
   "cell_type": "code",
   "execution_count": 86,
   "id": "3ea9d0d6",
   "metadata": {},
   "outputs": [],
   "source": [
    "np.save(\"../Data/AutoEncoded/cup1Enc\", encoder1)"
   ]
  },
  {
   "cell_type": "code",
   "execution_count": null,
   "id": "dde4af78",
   "metadata": {},
   "outputs": [],
   "source": []
  }
 ],
 "metadata": {
  "kernelspec": {
   "display_name": "Python 3 (ipykernel)",
   "language": "python",
   "name": "python3"
  },
  "language_info": {
   "codemirror_mode": {
    "name": "ipython",
    "version": 3
   },
   "file_extension": ".py",
   "mimetype": "text/x-python",
   "name": "python",
   "nbconvert_exporter": "python",
   "pygments_lexer": "ipython3",
   "version": "3.10.10"
  }
 },
 "nbformat": 4,
 "nbformat_minor": 5
}
