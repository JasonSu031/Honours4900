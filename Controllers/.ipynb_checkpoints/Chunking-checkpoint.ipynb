{
 "cells": [
  {
   "cell_type": "code",
   "execution_count": 30,
   "id": "7536529b",
   "metadata": {},
   "outputs": [],
   "source": [
    "import pandas as pd\n",
    "import numpy as np"
   ]
  },
  {
   "cell_type": "code",
   "execution_count": 31,
   "id": "43820229",
   "metadata": {},
   "outputs": [],
   "source": [
    "seqLen = 4"
   ]
  },
  {
   "cell_type": "code",
   "execution_count": 32,
   "id": "764daa2c",
   "metadata": {},
   "outputs": [],
   "source": [
    "dataFile = \"stateskb.tsv\""
   ]
  },
  {
   "cell_type": "code",
   "execution_count": 33,
   "id": "048abb50",
   "metadata": {},
   "outputs": [],
   "source": [
    "def dataFrameToArray(dataFile):\n",
    "    df = pd.read_csv(\"../Data/ActionState/\"+dataFile, sep='\\t', header = None)\n",
    "    df.drop(columns=df.columns[0], axis=1,  inplace=True)\n",
    "    arr = df.to_numpy()\n",
    "    return arr"
   ]
  },
  {
   "cell_type": "code",
   "execution_count": 38,
   "id": "1ebf9eac",
   "metadata": {},
   "outputs": [],
   "source": [
    "def splitSeq(dataFile, seqLen, chunk):\n",
    "    inputArr = dataFrameToArray(dataFile)\n",
    "    window = []\n",
    "    step = 1\n",
    "    if not chunk:\n",
    "        step = seqLen\n",
    "    for i in range(0,len(inputArr)-seqLen+1,step):\n",
    "        z = inputArr[i:i+seqLen].tolist()\n",
    "        window.append(z)\n",
    "    return window"
   ]
  },
  {
   "cell_type": "code",
   "execution_count": 39,
   "id": "bacda8d8",
   "metadata": {},
   "outputs": [
    {
     "name": "stdout",
     "output_type": "stream",
     "text": [
      "0\n",
      "4\n",
      "8\n",
      "12\n",
      "16\n",
      "20\n",
      "24\n",
      "28\n",
      "32\n",
      "36\n",
      "40\n"
     ]
    },
    {
     "data": {
      "text/plain": [
       "[[[0, 0, 0, 0, 0, 1, 0],\n",
       "  [0, 0, 0, 0, 0, 1, 0],\n",
       "  [1, 0, 0, 0, 0, 0, 0],\n",
       "  [0, 1, 0, 1, 0, 0, 0]],\n",
       " [[0, 0, 0, 0, 0, 0, 1],\n",
       "  [0, 0, 0, 0, 0, 0, 0],\n",
       "  [0, 0, 0, 0, 0, 0, 0],\n",
       "  [0, 0, 0, 0, 0, 0, 0]],\n",
       " [[0, 0, 0, 0, 0, 1, 0],\n",
       "  [0, 1, 0, 0, 0, 0, 0],\n",
       "  [0, 1, 0, 0, 0, 0, 0],\n",
       "  [0, 1, 0, 0, 0, 0, 0]],\n",
       " [[0, 1, 0, 0, 0, 0, 0],\n",
       "  [0, 1, 0, 0, 0, 0, 0],\n",
       "  [0, 1, 0, 0, 0, 0, 0],\n",
       "  [1, 1, 0, 0, 1, 0, 0]],\n",
       " [[0, 0, 1, 1, 1, 0, 0],\n",
       "  [0, 0, 0, 0, 0, 0, 0],\n",
       "  [1, 0, 1, 1, 0, 0, 0],\n",
       "  [0, 0, 1, 0, 1, 0, 0]],\n",
       " [[0, 0, 1, 0, 0, 0, 0],\n",
       "  [0, 0, 0, 0, 0, 0, 0],\n",
       "  [0, 0, 0, 0, 0, 0, 0],\n",
       "  [0, 0, 0, 0, 0, 0, 0]],\n",
       " [[0, 0, 0, 0, 0, 0, 0],\n",
       "  [0, 0, 0, 0, 0, 0, 0],\n",
       "  [0, 0, 0, 0, 0, 0, 0],\n",
       "  [0, 0, 0, 0, 0, 0, 0]],\n",
       " [[0, 0, 0, 0, 0, 0, 0],\n",
       "  [0, 0, 0, 0, 0, 0, 0],\n",
       "  [0, 0, 0, 0, 0, 0, 0],\n",
       "  [0, 0, 0, 0, 0, 0, 0]],\n",
       " [[0, 0, 0, 0, 0, 0, 0],\n",
       "  [0, 0, 0, 0, 0, 0, 0],\n",
       "  [0, 0, 0, 0, 0, 0, 0],\n",
       "  [0, 0, 0, 0, 0, 0, 0]],\n",
       " [[0, 0, 0, 0, 0, 0, 0],\n",
       "  [0, 0, 0, 0, 0, 0, 0],\n",
       "  [0, 0, 0, 0, 0, 0, 0],\n",
       "  [0, 0, 0, 0, 0, 0, 0]],\n",
       " [[0, 0, 0, 0, 0, 0, 0],\n",
       "  [0, 0, 0, 0, 0, 0, 0],\n",
       "  [0, 0, 0, 0, 0, 0, 0],\n",
       "  [0, 0, 0, 0, 0, 0, 0]]]"
      ]
     },
     "metadata": {},
     "output_type": "display_data"
    }
   ],
   "source": [
    "chunkized = splitSeq(dataFile,seqLen, False)\n",
    "display(chunkized)"
   ]
  },
  {
   "cell_type": "code",
   "execution_count": 18,
   "id": "a5b2cc08",
   "metadata": {},
   "outputs": [],
   "source": [
    "np.save(\"../Data/Chunkized/\"+dataFile[6:-4], chunkized)"
   ]
  },
  {
   "cell_type": "code",
   "execution_count": 19,
   "id": "02a29724",
   "metadata": {},
   "outputs": [],
   "source": [
    "file2 = \"statesmouse.tsv\"\n",
    "chunkized = splitSeq(file2, seqLen, chunk=False)\n",
    "np.save(\"../Data/Chunkized\"+file2[6:-4], chunkized)"
   ]
  },
  {
   "cell_type": "code",
   "execution_count": null,
   "id": "f25413d8",
   "metadata": {},
   "outputs": [],
   "source": []
  }
 ],
 "metadata": {
  "kernelspec": {
   "display_name": "Python 3 (ipykernel)",
   "language": "python",
   "name": "python3"
  },
  "language_info": {
   "codemirror_mode": {
    "name": "ipython",
    "version": 3
   },
   "file_extension": ".py",
   "mimetype": "text/x-python",
   "name": "python",
   "nbconvert_exporter": "python",
   "pygments_lexer": "ipython3",
   "version": "3.10.9"
  }
 },
 "nbformat": 4,
 "nbformat_minor": 5
}
