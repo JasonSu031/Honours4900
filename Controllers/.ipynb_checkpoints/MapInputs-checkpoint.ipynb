{
 "cells": [
  {
   "cell_type": "code",
   "execution_count": 69,
   "id": "1833a2aa",
   "metadata": {},
   "outputs": [],
   "source": [
    "import pandas as pd\n",
    "import csv\n",
    "import json"
   ]
  },
  {
   "cell_type": "code",
   "execution_count": 77,
   "id": "5b03913d",
   "metadata": {},
   "outputs": [],
   "source": [
    "fileName = \"Cuphead.json\""
   ]
  },
  {
   "cell_type": "code",
   "execution_count": 78,
   "id": "d7c558e6",
   "metadata": {},
   "outputs": [],
   "source": [
    "def defineMap(fileName):\n",
    "    with open('../Data/KeyMapping/'+fileName, 'r') as f:\n",
    "        keyMapping = json.load(f)\n",
    "        return keyMapping"
   ]
  },
  {
   "cell_type": "code",
   "execution_count": 79,
   "id": "a2911dee",
   "metadata": {},
   "outputs": [],
   "source": [
    "try:\n",
    "    keyMapping = defineMap(fileName)\n",
    "except:\n",
    "    print(\"json file does not exist\")"
   ]
  },
  {
   "cell_type": "code",
   "execution_count": 80,
   "id": "b39e581c",
   "metadata": {},
   "outputs": [],
   "source": [
    "def readFile(dataFile):\n",
    "    df = pd.read_csv(\"../Data/UserInput/\"+dataFile, sep = '\\t', header=None)\n",
    "    actionCol = df.iloc[:,-1]\n",
    "    return actionCol"
   ]
  },
  {
   "cell_type": "code",
   "execution_count": 81,
   "id": "53b3961b",
   "metadata": {},
   "outputs": [],
   "source": [
    "def clean_inputs(keyCol):\n",
    "    keyCol = keyCol.str.replace(\"Button\\.\", '', regex=True)\n",
    "    keyCol = keyCol.str.replace(\"Key\\.\", '', regex=True)\n",
    "    return keyCol"
   ]
  },
  {
   "cell_type": "code",
   "execution_count": 82,
   "id": "890df5dd",
   "metadata": {},
   "outputs": [],
   "source": [
    "def annotateData(dataFile):                                              #open the file to be annotated\n",
    "    df = pd.read_csv(\"../Data/UserInput/\"+dataFile, sep = '\\t', header=None)                             #create a dataframe of file that needs annotation\n",
    "    keyCol = df.iloc[:,-2]                                                          #this only takes the column of user inputs (ex. w, a, s, d)\n",
    "    cleanedKey = clean_inputs(keyCol)\n",
    "    keyCol = cleanedKey.copy()\n",
    "    keyCol = keyCol.map(keyMapping).to_frame().fillna(\"other\")                     #match the user inputs with the key_mapping json data, then convert it to a dataframe and replace all NaN values with other\n",
    "    df2 = pd.merge(df, keyCol, left_index=True, right_index=True)                   #merge the original file that needs annotations with the annotations\n",
    "    df2.insert(1, \"col1\",cleanedKey)\n",
    "    df2 = df2.rename({'1_x': 'keys', '1_y': 'action'}, axis=1)\n",
    "    df2 = df2.drop(\"keys\", axis = 1)\n",
    "    df2 = df2.drop(df2[df2.action ==\"other\"].index)\n",
    "    display(df2)\n",
    "    df2.to_csv(\"../Data/AnnotatedInput/annotated\"+dataFile,sep = '\\t', header=None, index = False)"
   ]
  },
  {
   "cell_type": "code",
   "execution_count": 83,
   "id": "6075e532",
   "metadata": {},
   "outputs": [
    {
     "data": {
      "text/html": [
       "<div>\n",
       "<style scoped>\n",
       "    .dataframe tbody tr th:only-of-type {\n",
       "        vertical-align: middle;\n",
       "    }\n",
       "\n",
       "    .dataframe tbody tr th {\n",
       "        vertical-align: top;\n",
       "    }\n",
       "\n",
       "    .dataframe thead th {\n",
       "        text-align: right;\n",
       "    }\n",
       "</style>\n",
       "<table border=\"1\" class=\"dataframe\">\n",
       "  <thead>\n",
       "    <tr style=\"text-align: right;\">\n",
       "      <th></th>\n",
       "      <th>0</th>\n",
       "      <th>col1</th>\n",
       "      <th>2</th>\n",
       "      <th>action</th>\n",
       "    </tr>\n",
       "  </thead>\n",
       "  <tbody>\n",
       "    <tr>\n",
       "      <th>0</th>\n",
       "      <td>2023-04-13 12:27:08.979268</td>\n",
       "      <td>z</td>\n",
       "      <td>pressed</td>\n",
       "      <td>jump</td>\n",
       "    </tr>\n",
       "    <tr>\n",
       "      <th>1</th>\n",
       "      <td>2023-04-13 12:27:09.075052</td>\n",
       "      <td>z</td>\n",
       "      <td>released</td>\n",
       "      <td>jump</td>\n",
       "    </tr>\n",
       "    <tr>\n",
       "      <th>2</th>\n",
       "      <td>2023-04-13 12:27:11.361745</td>\n",
       "      <td>z</td>\n",
       "      <td>pressed</td>\n",
       "      <td>jump</td>\n",
       "    </tr>\n",
       "    <tr>\n",
       "      <th>3</th>\n",
       "      <td>2023-04-13 12:27:11.526767</td>\n",
       "      <td>z</td>\n",
       "      <td>released</td>\n",
       "      <td>jump</td>\n",
       "    </tr>\n",
       "    <tr>\n",
       "      <th>4</th>\n",
       "      <td>2023-04-13 12:27:12.411511</td>\n",
       "      <td>z</td>\n",
       "      <td>pressed</td>\n",
       "      <td>jump</td>\n",
       "    </tr>\n",
       "    <tr>\n",
       "      <th>...</th>\n",
       "      <td>...</td>\n",
       "      <td>...</td>\n",
       "      <td>...</td>\n",
       "      <td>...</td>\n",
       "    </tr>\n",
       "    <tr>\n",
       "      <th>1130</th>\n",
       "      <td>2023-04-13 12:31:01.834850</td>\n",
       "      <td>right</td>\n",
       "      <td>released</td>\n",
       "      <td>right</td>\n",
       "    </tr>\n",
       "    <tr>\n",
       "      <th>1131</th>\n",
       "      <td>2023-04-13 12:31:01.857937</td>\n",
       "      <td>left</td>\n",
       "      <td>pressed</td>\n",
       "      <td>left</td>\n",
       "    </tr>\n",
       "    <tr>\n",
       "      <th>1132</th>\n",
       "      <td>2023-04-13 12:31:02.111777</td>\n",
       "      <td>left</td>\n",
       "      <td>released</td>\n",
       "      <td>left</td>\n",
       "    </tr>\n",
       "    <tr>\n",
       "      <th>1133</th>\n",
       "      <td>2023-04-13 12:31:02.438257</td>\n",
       "      <td>x</td>\n",
       "      <td>released</td>\n",
       "      <td>shoot</td>\n",
       "    </tr>\n",
       "    <tr>\n",
       "      <th>1138</th>\n",
       "      <td>2023-04-13 12:31:13.446816</td>\n",
       "      <td>delete</td>\n",
       "      <td>pressed</td>\n",
       "      <td>end</td>\n",
       "    </tr>\n",
       "  </tbody>\n",
       "</table>\n",
       "<p>1135 rows × 4 columns</p>\n",
       "</div>"
      ],
      "text/plain": [
       "                               0    col1         2 action\n",
       "0     2023-04-13 12:27:08.979268       z   pressed   jump\n",
       "1     2023-04-13 12:27:09.075052       z  released   jump\n",
       "2     2023-04-13 12:27:11.361745       z   pressed   jump\n",
       "3     2023-04-13 12:27:11.526767       z  released   jump\n",
       "4     2023-04-13 12:27:12.411511       z   pressed   jump\n",
       "...                          ...     ...       ...    ...\n",
       "1130  2023-04-13 12:31:01.834850   right  released  right\n",
       "1131  2023-04-13 12:31:01.857937    left   pressed   left\n",
       "1132  2023-04-13 12:31:02.111777    left  released   left\n",
       "1133  2023-04-13 12:31:02.438257       x  released  shoot\n",
       "1138  2023-04-13 12:31:13.446816  delete   pressed    end\n",
       "\n",
       "[1135 rows x 4 columns]"
      ]
     },
     "metadata": {},
     "output_type": "display_data"
    }
   ],
   "source": [
    "try:\n",
    "    annotateData(\"cupheadkb.tsv\")\n",
    "except:\n",
    "    print(\"Failed to annotate keyboard data\")\n",
    "    \n"
   ]
  },
  {
   "cell_type": "code",
   "execution_count": null,
   "id": "d8dc3ac8",
   "metadata": {},
   "outputs": [],
   "source": []
  }
 ],
 "metadata": {
  "kernelspec": {
   "display_name": "Python 3 (ipykernel)",
   "language": "python",
   "name": "python3"
  },
  "language_info": {
   "codemirror_mode": {
    "name": "ipython",
    "version": 3
   },
   "file_extension": ".py",
   "mimetype": "text/x-python",
   "name": "python",
   "nbconvert_exporter": "python",
   "pygments_lexer": "ipython3",
   "version": "3.10.10"
  }
 },
 "nbformat": 4,
 "nbformat_minor": 5
}
